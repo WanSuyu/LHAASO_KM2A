{
 "cells": [
  {
   "cell_type": "code",
   "execution_count": 1,
   "metadata": {},
   "outputs": [],
   "source": [
    "# The code is a test for random forest classification, last edited in 2023/10/20 by Wan\n",
    "\n",
    "# importing necessary packages\n",
    "import numpy as np\n",
    "import glob\n",
    "from sklearn.model_selection import train_test_split\n",
    "from sklearn.ensemble import RandomForestClassifier\n",
    "from sklearn import metrics\n",
    "import pandas as pd\n",
    "from sklearn.metrics import confusion_matrix\n",
    "import matplotlib\n",
    "import matplotlib.pyplot as plt\n",
    "from sklearn.metrics import roc_curve, roc_auc_score"
   ]
  },
  {
   "cell_type": "code",
   "execution_count": 2,
   "metadata": {},
   "outputs": [],
   "source": [
    "# Creating dataset for training, only uses small amount of proton data\n",
    "datadir = '/home/wsy/KM2A/Xishui/'\n",
    "npzfiles = glob.glob(datadir + 'rec.all.Proton.*.npz')\n",
    "'''npzfiles = [datadir+'rec.all.Proton.1.e12_1.e13.0_40.QGSII_flukacern.root.weighted.npz',\n",
    "            datadir+'rec.all.Proton.1.e13_1.e14.40_70.QGSII_flukacern.root.weighted.npz',\n",
    "            datadir+ 'rec.all.Proton.1.e14_1.e15.70_75.QGSII_flukacern.root.weighted.npz',\n",
    "            datadir+'rec.all.Proton.1.e15_1.e16.70_75.QGSII_flukacern.root.weighted.npz',\n",
    "            datadir+'rec.all.Proton.1.e16_1.e17.70_75.QGSII_flukacern.root.weighted.npz']'''\n",
    "for i, npzfile in enumerate(npzfiles):\n",
    "    if i==0:\n",
    "        test = np.load(npzfile, allow_pickle=True)\n",
    "        arr1 = test['E']\n",
    "        arr2 = test['NhitE']\n",
    "        arr3 = test['NhitM']\n",
    "        arr4 = arr2/arr3\n",
    "        arr5 = np.zeros(len(arr1))\n",
    "    else:\n",
    "        f = np.load(npzfile, allow_pickle=True)\n",
    "        ene = f['E']\n",
    "        ED = f['NhitE']\n",
    "        MD = f['NhitM']\n",
    "        EMr = ED/MD\n",
    "        lab1 = np.zeros(len(ene))\n",
    "        arr1 = np.append(arr1, ene)\n",
    "        arr2 = np.append(arr2,ED)\n",
    "        arr3 = np.append(arr3,MD)\n",
    "        arr4 = np.append(arr4, EMr)\n",
    "        arr5 = np.append(arr5, lab1)\n",
    "X_p = np.column_stack((arr1,arr2,arr3,arr4,arr5))\n"
   ]
  },
  {
   "cell_type": "code",
   "execution_count": 3,
   "metadata": {},
   "outputs": [],
   "source": [
    "# Creating dataset for training, only uses small amount of Fe data\n",
    "datadir = '/home/wsy/KM2A/Xishui/'\n",
    "npzfiles = glob.glob(datadir + 'rec.all.Fe.*.npz')\n",
    "'''npzfiles = [datadir+'rec.all.Fe.1.e13_1.e14.40_70.QGSII_flukacern.root.weighted.npz',\n",
    "            datadir+'rec.all.Fe.1.e14_1.e15.40_70.QGSII_flukacern.root.weighted.npz',\n",
    "            datadir+'rec.all.Fe.1.e15_1.e16.70_75.QGSII_flukacern.root.weighted.npz',\n",
    "            datadir+'rec.all.Fe.1.e16_1.e17.70_75.QGSII_flukacern.root.weighted.npz']'''\n",
    "for i, npzfile in enumerate(npzfiles):\n",
    "    if i==0:\n",
    "        test = np.load(npzfile, allow_pickle=True)\n",
    "        b1 = test['E']\n",
    "        b2 = test['NhitE']\n",
    "        b3 = test['NhitM']\n",
    "        b4 = b2/b3\n",
    "        b5 = 1 + np.zeros(len(b1))\n",
    "    else:\n",
    "        f = np.load(npzfile, allow_pickle=True)\n",
    "        eneb = f['E']\n",
    "        EDb = f['NhitE']\n",
    "        MDb = f['NhitM']\n",
    "        EMrb = EDb/MDb\n",
    "        lab1b = 1 + np.zeros(len(eneb))\n",
    "        b1 = np.append(b1, eneb)\n",
    "        b2 = np.append(b2,EDb)\n",
    "        b3 = np.append(b3,MDb)\n",
    "        b4 = np.append(b4, EMrb)\n",
    "        b5 = np.append(b5, lab1b)\n",
    "X_f = np.column_stack((b1,b2,b3,b4,b5))"
   ]
  },
  {
   "cell_type": "code",
   "execution_count": 4,
   "metadata": {},
   "outputs": [],
   "source": [
    "# Produce the final dataset for training, and shuffling is necessary. X_A is the total set of features and Y_A is the total set of labels\n",
    "X_A = np.row_stack((X_p, X_f))\n",
    "np.random.shuffle(X_A)\n",
    "Y_A= X_A[:,4:].flatten()\n",
    "X_A = X_A[:,1:4]"
   ]
  },
  {
   "cell_type": "code",
   "execution_count": 5,
   "metadata": {},
   "outputs": [
    {
     "name": "stdout",
     "output_type": "stream",
     "text": [
      "ACCURACY OF THE MODEL:  0.8363014003476642\n",
      "Confusion Matrix: [[2072323  185983]\n",
      " [ 332614  577079]]\n"
     ]
    },
    {
     "data": {
      "text/plain": [
       "(0.0, 1.0, 0.0, 1.0)"
      ]
     },
     "execution_count": 5,
     "metadata": {},
     "output_type": "execute_result"
    },
    {
     "data": {
      "image/png": "[encoded data removed]",
      "text/plain": [
       "<Figure size 576x432 with 1 Axes>"
      ]
     },
     "metadata": {
      "needs_background": "light"
     },
     "output_type": "display_data"
    }
   ],
   "source": [
    "# Split the features and labels into a training set and a testing set, and then use random forest classifier\n",
    "X_train, X_test, y_train, y_test = train_test_split(X_A, Y_A, test_size = 0.30)\n",
    "numTrees = 50\n",
    "clf = RandomForestClassifier( n_estimators = numTrees,  min_samples_leaf=5)\n",
    "clf.fit (X_train, y_train)\n",
    "y_pred = clf.predict(X_test)\n",
    "y_score = clf.predict_proba(X_test)[:, 1] # y_score represents the probability for the model to classify the test data as positive result(Fe event)\n",
    "\n",
    "\n",
    "# using metrics module for accuracy calculation  \n",
    "print(\"ACCURACY OF THE MODEL: \", metrics.accuracy_score(y_test, y_pred))\n",
    "\n",
    "# using confusion matrix to show the results of the test\n",
    "print('Confusion Matrix:', metrics.confusion_matrix(y_test, y_pred))\n",
    "met = metrics.confusion_matrix(y_test,y_pred)\n",
    "col=['Proton(pred)','Iron(pred)']\n",
    "row = ['Proton(real)','Iron(real)']\n",
    "vals = met\n",
    "plt.figure(figsize = (8,6))\n",
    "tab = plt.table(cellText = vals,\n",
    "                colLabels = col,\n",
    "                rowLabels = row,\n",
    "                loc = 'center',\n",
    "                cellLoc = 'center',\n",
    "                rowLoc = 'center')\n",
    "tab.scale(1,2)\n",
    "plt.axis('off')\n",
    "\n",
    "\n"
   ]
  },
  {
   "cell_type": "code",
   "execution_count": 6,
   "metadata": {},
   "outputs": [
    {
     "name": "stderr",
     "output_type": "stream",
     "text": [
      "findfont: Font family ['Times New Roman'] not found. Falling back to DejaVu Sans.\n"
     ]
    },
    {
     "data": {
      "image/png": "[encoded data removed]",
      "text/plain": [
       "<Figure size 864x648 with 1 Axes>"
      ]
     },
     "metadata": {
      "needs_background": "light"
     },
     "output_type": "display_data"
    }
   ],
   "source": [
    "# To calculate the feature importance and show the result with a bar plot \n",
    "Y = clf.feature_importances_\n",
    "X = ['NhitE','NhitM','ED/MD']\n",
    "\n",
    "plt.figure(figsize=(12,9))\n",
    "Ba = plt.bar(X,Y)\n",
    "plt.xlabel(\"Features\", size=20)\n",
    "plt.ylabel(\"Importance\", size=20)\n",
    "plt.xticks(fontproperties='Times New Roman', size = 15)\n",
    "plt.yticks(fontproperties='Times New Roman', size = 15)\n",
    "\n",
    "# Show the values of feature importance on the bars \n",
    "for a, b in zip(X, Y):\n",
    "    plt.text(a, b,'%.2f'%b, ha='center', va='bottom')\n",
    "plt.show()\n",
    "\n",
    "\n",
    "\n",
    "#feature_imp = pd.Series(clf.feature_importances_).sort_values(ascending = False) \n",
    "#feature_imp\n"
   ]
  },
  {
   "cell_type": "code",
   "execution_count": 7,
   "metadata": {},
   "outputs": [
    {
     "data": {
      "image/png": "[encoded data removed]",
      "text/plain": [
       "<Figure size 432x288 with 1 Axes>"
      ]
     },
     "metadata": {
      "needs_background": "light"
     },
     "output_type": "display_data"
    }
   ],
   "source": [
    "# Calculate the auc value, which represent the area below the ROC curve\n",
    "auc_score = roc_auc_score(y_test, y_score)\n",
    "auc_score\n",
    "\n",
    "# Calculate the ROC curve\n",
    "fpr, tpr, thresholds = roc_curve(y_test, y_score) \n",
    "plt.plot(fpr, tpr, label=f'AUC = {auc_score:.2f}') # fpr represents the false-positive rate, and tpr represents the true-positive rate\n",
    "plt.plot([0, 1], [0, 1], linestyle='--', color='r', label=' Random Classifier') # ROC curve for the random classifier, which means the model has no ability for distinguishing between the two  \n",
    "plt.xlabel('False Positive Rate')  \n",
    "plt.ylabel('True Positive Rate')   \n",
    "plt.title('ROC Curve for the test RF')             \n",
    "plt.legend()                    \n",
    "plt.show()              \n"
   ]
  },
  {
   "cell_type": "code",
   "execution_count": 9,
   "metadata": {},
   "outputs": [
    {
     "data": {
      "text/plain": [
       "['clf.pkl']"
      ]
     },
     "execution_count": 9,
     "metadata": {},
     "output_type": "execute_result"
    }
   ],
   "source": [
    "# Save the model as a .plk file\n",
    "import joblib\n",
    "joblib.dump(clf, 'clf.pkl')"
   ]
  }
 ],
 "metadata": {
  "kernelspec": {
   "display_name": "pytorch",
   "language": "python",
   "name": "python3"
  },
  "language_info": {
   "codemirror_mode": {
    "name": "ipython",
    "version": 3
   },
   "file_extension": ".py",
   "mimetype": "text/x-python",
   "name": "python",
   "nbconvert_exporter": "python",
   "pygments_lexer": "ipython3",
   "version": "3.8.3"
  }
 },
 "nbformat": 4,
 "nbformat_minor": 2
}
