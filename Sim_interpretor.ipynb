{
 "cells": [
  {
   "cell_type": "code",
   "execution_count": 1,
   "metadata": {},
   "outputs": [
    {
     "name": "stdout",
     "output_type": "stream",
     "text": [
      "E\n",
      "[618628.44 260521.34 118893.89 ... 267890.25 362725.72 306236.94]\n",
      "id\n",
      "[14 14 14 ... 14 14 14]\n",
      "theta\n",
      "[1.0109657  0.9371906  0.8346488  ... 0.87412107 0.79731554 0.8425322 ]\n",
      "phi\n",
      "[2.2208087 1.7232567 3.9435902 ... 4.9795637 4.5471706 4.268569 ]\n",
      "rec_theta\n",
      "[1.0139171  1.0040874  0.8212636  ... 0.8686161  0.8039528  0.77929896]\n",
      "rec_phi\n",
      "[2.2220607 1.7209753 3.9324944 ... 4.9879875 4.545839  4.23548  ]\n",
      "corex\n",
      "[ -90.73377   -22.332224 -145.20836  ...  180.2824   -524.9035\n",
      "   87.708725]\n",
      "corey\n",
      "[ 539.7039   545.4952   557.298   ...  670.47894 -238.53299 -726.5699 ]\n",
      "rec_x\n",
      "[ -89.68152   -17.059244 -146.53413  ...  211.71599  -530.5122\n",
      "  129.07274 ]\n",
      "rec_y\n",
      "[ 537.0704   552.43964  545.29456 ...  601.12946 -238.93105 -454.1259 ]\n",
      "pNpE\n",
      "[927  98  54 ...  88 221  39]\n",
      "pNuM\n",
      "[126  32  15 ...  23  40  26]\n",
      "NhitE\n",
      "[506 170 127 ... 175 242 127]\n",
      "NhitM\n",
      "[196 142 113 ... 122 132 119]\n",
      "NfiltE\n",
      "[199  54  31 ...  30  80  10]\n",
      "NfiltM\n",
      "[44 15  8 ... 10 16  8]\n",
      "NpE1\n",
      "[1300.513     111.63752    79.38474  ...   27.7107    232.69868\n",
      "   15.066548]\n",
      "NpE2\n",
      "[265.401     48.554497  28.138908 ...  16.077217  67.56087    9.46105 ]\n",
      "NpE3\n",
      "[1408.4072    127.616745   87.88698  ...   49.294743  268.68393\n",
      "   20.566305]\n",
      "NuM1\n",
      "[92.56827  23.821117 13.668598 ... 16.28832  32.59978  14.498422]\n",
      "NuM2\n",
      "[30.348345   8.605881   8.20259   ...  2.4182277  7.280343   5.644039 ]\n",
      "NuM3\n",
      "[76.43358  20.453642 11.435536 ... 16.28832  27.726408 10.944543]\n",
      "NuM4\n",
      "[129.64587   29.878548  17.156078 ...  23.15722   40.154865  19.564638]\n",
      "NpW\n",
      "[ 55.49347   47.29703   35.359932 ... -40.735382  18.165619 127.88763 ]\n",
      "H3a\n",
      "[2.3413842e-05 4.4223911e-05 7.5771844e-05 ... 4.3364194e-05 3.4925655e-05\n",
      " 3.9442515e-05]\n",
      "Single_H3a\n",
      "[8.4075335e-05 1.4748276e-04 2.4131284e-04 ... 1.4489198e-04 1.1934344e-04\n",
      " 1.3304639e-04]\n",
      "GST\n",
      "[1.45448985e-05 2.65585932e-05 5.56036503e-05 ... 2.59346107e-05\n",
      " 2.04432963e-05 2.32389611e-05]\n",
      "PG\n",
      "[1.8578308e-05 3.5079916e-05 6.1482642e-05 ... 3.4382090e-05 2.7605796e-05\n",
      " 3.1216114e-05]\n",
      "Inter_MCMC\n",
      "[2.0687883e-05 3.9123392e-05 7.5766686e-05 ... 3.8437393e-05 3.1141550e-05\n",
      " 3.5300545e-05]\n",
      "602699\n",
      "602699\n"
     ]
    }
   ],
   "source": [
    "# import packages and show the contents of npz files\n",
    "import numpy as np\n",
    "datadir = 'D:/LHAASO_KM2A/LHAASO/Data/Simulation/Xishui/'\n",
    "test = np.load(datadir+'rec.all.Proton.1.e14_1.e15.40_70.QGSII_flukacern.root.weighted.npz')\n",
    "lst=test.files\n",
    "for item in lst:\n",
    "    print(item)\n",
    "    print(test[item])\n",
    "    \n",
    "\n",
    "array1 = test['E']\n",
    "array2 = test['id']\n",
    "print(len(array1))\n",
    "print(len(array2))"
   ]
  },
  {
   "cell_type": "code",
   "execution_count": 2,
   "metadata": {},
   "outputs": [
    {
     "data": {
      "text/plain": [
       "array([[5.47173779e+03, 3.05945903e-01, 9.90000000e+01],\n",
       "       [8.59261133e+03, 2.14569256e-01, 1.04000000e+02],\n",
       "       [7.23614844e+03, 3.15549344e-01, 1.01000000e+02],\n",
       "       ...,\n",
       "       [1.01228060e+07, 1.53692234e+00, 1.25000000e+02],\n",
       "       [2.79591080e+07, 1.50963235e+00, 1.06000000e+02],\n",
       "       [8.27407360e+07, 1.51517344e+00, 1.15000000e+02]])"
      ]
     },
     "execution_count": 2,
     "metadata": {},
     "output_type": "execute_result"
    }
   ],
   "source": [
    "# Read proton files\n",
    "import glob\n",
    "npzfiles = glob.glob(datadir + 'rec.all.Proton*.npz')\n",
    "for i, npzfile in enumerate(npzfiles):\n",
    "    if i==0:\n",
    "        test = np.load(npzfile, allow_pickle=True)\n",
    "        arr1 = test['E']\n",
    "        arr2 = test['theta']\n",
    "        arr3 = test['NhitE']\n",
    "\n",
    "    else:\n",
    "        f = np.load(npzfile, allow_pickle=True)\n",
    "        ene = f['E']\n",
    "        theta = f['theta']\n",
    "        hitE = f['NhitE']\n",
    "        arr1 = np.append(arr1, ene)\n",
    "        arr2 = np.append(arr2, theta)\n",
    "        arr3 = np.append(arr3, hitE) \n",
    "pri_features = np.column_stack((arr1, arr2,arr3))\n",
    "pri_features\n"
   ]
  },
  {
   "cell_type": "code",
   "execution_count": 3,
   "metadata": {},
   "outputs": [
    {
     "data": {
      "text/plain": [
       "array([[3.19880312e+04, 4.40464437e-01, 1.15000000e+02],\n",
       "       [3.56524922e+04, 2.91274101e-01, 1.07000000e+02],\n",
       "       [5.04254961e+04, 2.48385459e-01, 1.48000000e+02],\n",
       "       ...,\n",
       "       [8.06034960e+07, 1.53035557e+00, 1.31000000e+02],\n",
       "       [8.06034960e+07, 1.53035557e+00, 1.33000000e+02],\n",
       "       [2.34836820e+07, 1.53493893e+00, 1.35000000e+02]])"
      ]
     },
     "execution_count": 3,
     "metadata": {},
     "output_type": "execute_result"
    }
   ],
   "source": [
    "# read iron files\n",
    "npzfiles = glob.glob(datadir + 'rec.all.Fe*.npz')\n",
    "for i, npzfile in enumerate(npzfiles):\n",
    "    if i==0:\n",
    "        test = np.load(npzfile, allow_pickle=True)\n",
    "        arr11 = test['E']\n",
    "        arr22 = test['theta']\n",
    "        arr33 = test['NhitE']\n",
    "\n",
    "    else:\n",
    "        f = np.load(npzfile, allow_pickle=True)\n",
    "        ene = f['E']\n",
    "        theta = f['theta']\n",
    "        hitE = f['NhitE']\n",
    "        arr11 = np.append(arr11, ene)\n",
    "        arr22 = np.append(arr22, theta)\n",
    "        arr33 = np.append(arr33, hitE) \n",
    "features1 = np.column_stack((arr11, arr22,arr33))\n",
    "features1"
   ]
  }
 ],
 "metadata": {
  "kernelspec": {
   "display_name": "pytorch",
   "language": "python",
   "name": "python3"
  },
  "language_info": {
   "codemirror_mode": {
    "name": "ipython",
    "version": 3
   },
   "file_extension": ".py",
   "mimetype": "text/x-python",
   "name": "python",
   "nbconvert_exporter": "python",
   "pygments_lexer": "ipython3",
   "version": "3.9.12"
  }
 },
 "nbformat": 4,
 "nbformat_minor": 2
}
